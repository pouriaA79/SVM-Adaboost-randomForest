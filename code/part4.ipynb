{
 "cells": [
  {
   "cell_type": "code",
   "execution_count": 10,
   "metadata": {},
   "outputs": [],
   "source": [
    "import pandas as pd\n",
    "import numpy as np\n",
    "from sklearn.model_selection import train_test_split\n",
    "from matplotlib import pyplot as plt\n",
    "from sklearn.metrics import confusion_matrix"
   ]
  },
  {
   "cell_type": "code",
   "execution_count": 11,
   "metadata": {},
   "outputs": [],
   "source": [
    "# Decision stump used as weak classifier\n",
    "class DecisionStump:\n",
    "    def __init__(self):\n",
    "        self.polarity = 1\n",
    "        self.feature_idx = None\n",
    "        self.threshold = None\n",
    "        self.alpha = None\n",
    "    def predict(self, X):\n",
    "        predictions = np.ones(X.shape[0])\n",
    "        X_column = X[:, self.feature_idx]\n",
    "        \n",
    "        # default case \n",
    "        if self.polarity == 1:\n",
    "            predictions[X_column < self.threshold] = -1\n",
    "        else:\n",
    "            predictions[X_column > self.threshold] = -1\n",
    "        return predictions"
   ]
  },
  {
   "cell_type": "code",
   "execution_count": 12,
   "metadata": {},
   "outputs": [],
   "source": [
    "class Adaboost:\n",
    "    def __init__(self, n_clf=5):\n",
    "        self.n_clf = n_clf\n",
    "        self.clfs = []\n",
    "    def fit(self, X, y):\n",
    "        w = np.full(X.shape[0], (1 / X.shape[0]))\n",
    "        self.clfs = []\n",
    "        for _ in range(self.n_clf):\n",
    "            clf = DecisionStump()\n",
    "            min_error = float(\"inf\")\n",
    "            for xi in range(X.shape[1]):\n",
    "                for threshold in np.unique(X[:, xi]):\n",
    "                    p = 1\n",
    "                    predictions = np.ones(X.shape[0])\n",
    "                    predictions[X[:, xi] < threshold] = -1                   \n",
    "                    error = sum(w[y != predictions])\n",
    "                    if error > 0.5:\n",
    "                        error = 1 - error\n",
    "                        p = -1\n",
    "                    if error < min_error:\n",
    "                        clf.polarity = p\n",
    "                        clf.threshold = threshold\n",
    "                        clf.feature_idx = xi\n",
    "                        min_error = error\n",
    "            predictions = clf.predict(X)\n",
    "            clf.alpha = 0.5 * np.log((1.0 - min_error + 1e-10) / (min_error + 1e-10))\n",
    "            predictions = clf.predict(X)\n",
    "            w *= np.exp(-clf.alpha * y * predictions)\n",
    "            w /= np.sum(w)\n",
    "            self.clfs.append(clf)\n",
    "    def predict(self, X):\n",
    "        return np.sign(np.sum([clf.alpha * clf.predict(X) for clf in self.clfs], axis=0))"
   ]
  },
  {
   "cell_type": "code",
   "execution_count": 13,
   "metadata": {},
   "outputs": [],
   "source": [
    "def pre_processing(dataframe):\n",
    "#     print(dataframe.isna().sum())\n",
    "    dataframe = dataframe.fillna(df['Age'].mean())\n",
    "    dataframe = dataframe.drop('PassengerId', axis = 1)\n",
    "#     print(dataframe['Sex'].unique())\n",
    "    dataframe['Sex']= dataframe['Sex'].map({'male': 0, 'female': 1}).astype(int)    \n",
    "    return dataframe"
   ]
  },
  {
   "cell_type": "code",
   "execution_count": 14,
   "metadata": {},
   "outputs": [],
   "source": [
    "def scale(X):\n",
    "    new = X - np.mean(X, axis=0)\n",
    "    return new / np.std(new, axis=0)"
   ]
  },
  {
   "cell_type": "code",
   "execution_count": 15,
   "metadata": {},
   "outputs": [],
   "source": [
    "def accuracy(y_true, y_pred):\n",
    "    cm = confusion_matrix(y_true, y_pred) \n",
    "    print(cm)    \n",
    "    accuracy = np.sum(y_true == y_pred) / len(y_true)\n",
    "    plt.matshow(cm)\n",
    "    plt.title('Confusion matrix')\n",
    "    plt.colorbar()\n",
    "    plt.ylabel('True label')\n",
    "    plt.xlabel('Predicted label')\n",
    "    plt.show()\n",
    "    return accuracy"
   ]
  },
  {
   "cell_type": "code",
   "execution_count": 16,
   "metadata": {},
   "outputs": [
    {
     "name": "stdout",
     "output_type": "stream",
     "text": [
      "[[97 14]\n",
      " [17 51]]\n"
     ]
    },
    {
     "data": {
      "image/png": "[encoded data removed]",
      "text/plain": [
       "<Figure size 288x288 with 2 Axes>"
      ]
     },
     "metadata": {
      "needs_background": "light"
     },
     "output_type": "display_data"
    },
    {
     "name": "stdout",
     "output_type": "stream",
     "text": [
      "Accuracy: 0.8268156424581006\n"
     ]
    }
   ],
   "source": [
    "# Testing\n",
    "if __name__ == \"__main__\":\n",
    "    df=pd.read_csv(\"data4.csv\")\n",
    "    df = pre_processing (df)\n",
    "    X = df.drop('Target_class', axis=1)\n",
    "    y = df['Target_class']\n",
    "    X = X.to_numpy()\n",
    "    y = y.to_numpy()\n",
    "    X = X.astype(int) \n",
    "    y = y.astype(int)\n",
    "    X = scale(X)\n",
    "    y = np.where(y == 0, -1, 1)\n",
    "    X_train, X_test, y_train, y_test = train_test_split(\n",
    "        X, y, test_size=0.2 )\n",
    "    # Adaboost classification with 5 weak classifiers\n",
    "    clf = Adaboost(n_clf=5)\n",
    "    clf.fit(X_train, y_train)\n",
    "    y_pred = clf.predict(X_test)\n",
    "    acc = accuracy(y_test, y_pred)\n",
    "    print(\"Accuracy:\", acc)"
   ]
  },
  {
   "cell_type": "code",
   "execution_count": null,
   "metadata": {},
   "outputs": [],
   "source": []
  }
 ],
 "metadata": {
  "kernelspec": {
   "display_name": "Python 3",
   "language": "python",
   "name": "python3"
  },
  "language_info": {
   "codemirror_mode": {
    "name": "ipython",
    "version": 3
   },
   "file_extension": ".py",
   "mimetype": "text/x-python",
   "name": "python",
   "nbconvert_exporter": "python",
   "pygments_lexer": "ipython3",
   "version": "3.6.10"
  }
 },
 "nbformat": 4,
 "nbformat_minor": 4
}
