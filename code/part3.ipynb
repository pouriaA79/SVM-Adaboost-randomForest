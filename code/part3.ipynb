{
 "cells": [
  {
   "cell_type": "code",
   "execution_count": 61,
   "metadata": {},
   "outputs": [],
   "source": [
    "from collections import Counter\n",
    "import numpy as np\n",
    "from sklearn.model_selection import train_test_split\n",
    "from sklearn.metrics import confusion_matrix\n",
    "from matplotlib import pyplot as plt\n",
    "import pandas as pd"
   ]
  },
  {
   "cell_type": "code",
   "execution_count": 62,
   "metadata": {},
   "outputs": [],
   "source": [
    "def bootstrap_sample(X, y):\n",
    "    index = np.random.choice(X.shape[0], X.shape[0], replace=True)\n",
    "    return X[index], y[index]\n",
    "def most_common_label(y):\n",
    "    return Counter(y).most_common(1)[0][0]\n"
   ]
  },
  {
   "cell_type": "code",
   "execution_count": 63,
   "metadata": {},
   "outputs": [],
   "source": [
    "def entropy(y):\n",
    "    return -np.sum([p * np.log2(p) for p in np.bincount(y) / len(y) if p > 0])"
   ]
  },
  {
   "cell_type": "code",
   "execution_count": 64,
   "metadata": {},
   "outputs": [],
   "source": [
    "class Node:\n",
    "    def __init__(\n",
    "        self, feature=None, threshold=None, left=None, right=None, *, value=None\n",
    "    ):\n",
    "        self.feature = feature\n",
    "        self.threshold = threshold\n",
    "        self.left = left\n",
    "        self.right = right\n",
    "        self.value = value\n",
    "\n",
    "    def is_leaf_node(self):\n",
    "        return self.value is not None"
   ]
  },
  {
   "cell_type": "code",
   "execution_count": 82,
   "metadata": {},
   "outputs": [],
   "source": [
    "class RandomForest:\n",
    "    def __init__(self, n_trees=10, min_samples_split=2, max_depth=100, n_feats=None):\n",
    "        self.n_trees = n_trees\n",
    "        self.min_samples_split = min_samples_split\n",
    "        self.max_depth = max_depth\n",
    "        self.n_feats = n_feats\n",
    "        self.trees = []\n",
    "    def predict(self, X):\n",
    "        tree_preds = np.swapaxes(np.array([tree.predict(X) for tree in self.trees]), 0, 1)\n",
    "        return np.array([most_common_label(tree_pred) for tree_pred in tree_preds])\n",
    "    def fit(self, X, y):\n",
    "        self.trees = []\n",
    "        for _ in range(self.n_trees):\n",
    "            tree = DecisionTree(\n",
    "                min_samples_split=self.min_samples_split,\n",
    "                max_depth=self.max_depth,\n",
    "                n_feats=self.n_feats,\n",
    "            )\n",
    "            X_samp, y_samp = bootstrap_sample(X, y)\n",
    "            tree.fit(X_samp, y_samp)\n",
    "            self.trees.append(tree)\n",
    "\n",
    "    \n",
    "\n",
    "    "
   ]
  },
  {
   "cell_type": "code",
   "execution_count": 83,
   "metadata": {},
   "outputs": [],
   "source": [
    "class DecisionTree:\n",
    "    def __init__(self, min_samples_split=2, max_depth=100, n_feats=None):\n",
    "        self.min_samples_split = min_samples_split\n",
    "        self.max_depth = max_depth\n",
    "        self.n_feats = n_feats\n",
    "        self.root = None\n",
    "\n",
    "    def fit(self, X, y):\n",
    "        self.n_feats = X.shape[1] if not self.n_feats else min(self.n_feats, X.shape[1])\n",
    "        self.root = self._grow_tree(X, y)\n",
    "\n",
    "    def predict(self, X):\n",
    "        return np.array([self._traverse_tree(x, self.root) for x in X])\n",
    "\n",
    "    def _grow_tree(self, X, y, depth=0):\n",
    "        if depth >= self.max_depth or len(np.unique(y)) == 1 or X.shape[0] < self.min_samples_split:\n",
    "            return Node(value=self._most_common_label(y))\n",
    "\n",
    "        # greedily select the best split according to information gain\n",
    "        best_feat, best_thresh = self._best_criteria(X, y, np.random.choice(X.shape[1], self.n_feats, replace=False))\n",
    "\n",
    "        # grow the children that result from the split\n",
    "        left_idxs, right_idxs = self._split(X[:, best_feat], best_thresh)\n",
    "        left = self._grow_tree(X[left_idxs, :], y[left_idxs], depth + 1)\n",
    "        right = self._grow_tree(X[right_idxs, :], y[right_idxs], depth + 1)\n",
    "        return Node(best_feat, best_thresh, left, right)\n",
    "\n",
    "    def _best_criteria(self, X, y, feat_idxs):\n",
    "        best_gain = -1\n",
    "        for feat_idx in feat_idxs:\n",
    "            for threshold in np.unique(X[:, feat_idx]):\n",
    "                gain = self._information_gain(y, X[:, feat_idx], threshold)\n",
    "                if gain > best_gain:\n",
    "                    best_gain = gain\n",
    "                    split_idx = feat_idx\n",
    "                    split_thresh = threshold\n",
    "\n",
    "        return split_idx, split_thresh\n",
    "\n",
    "    def _information_gain(self, y, X_column, split_thresh):\n",
    "\n",
    "        # generate split\n",
    "        left_idxs, right_idxs = self._split(X_column, split_thresh)\n",
    "        # compute the weighted avg. of the loss for the children\n",
    "        e_l, e_r = entropy(y[left_idxs]), entropy(y[right_idxs])\n",
    "        n_l, n_r = len(left_idxs), len(right_idxs)\n",
    "        child_entropy = (n_l / len(y)) * e_l + (n_r / len(y)) * e_r\n",
    "        if len(left_idxs) == 0 or len(right_idxs) == 0:\n",
    "            return 0\n",
    "        # information gain is difference in loss before vs. after split\n",
    "        return entropy(y) - child_entropy\n",
    "\n",
    "    def _split(self, X_column, split_thresh):\n",
    "        left_idxs = np.argwhere(X_column <= split_thresh).flatten()\n",
    "        right_idxs = np.argwhere(X_column > split_thresh).flatten()\n",
    "        return left_idxs, right_idxs\n",
    "\n",
    "    def _traverse_tree(self, x, node):\n",
    "        if node.is_leaf_node():\n",
    "            return node.value\n",
    "\n",
    "        if x[node.feature] <= node.threshold:\n",
    "            return self._traverse_tree(x, node.left)\n",
    "        return self._traverse_tree(x, node.right)\n",
    "\n",
    "    def _most_common_label(self, y):\n",
    "        counter = Counter(y)\n",
    "        most_common = counter.most_common(1)[0][0]\n",
    "        return most_common"
   ]
  },
  {
   "cell_type": "code",
   "execution_count": 84,
   "metadata": {},
   "outputs": [],
   "source": [
    "def accuracy(y_true, y_pred):\n",
    "        cm = confusion_matrix(y_true, y_pred) \n",
    "        print(cm)\n",
    "        \n",
    "        accuracy = np.sum(y_true == y_pred) / len(y_true)\n",
    "        plt.matshow(cm)\n",
    "        plt.title('Confusion matrix')\n",
    "        plt.colorbar()\n",
    "        plt.ylabel('True label')\n",
    "        plt.xlabel('Predicted label')\n",
    "        plt.show()\n",
    "        return accuracy"
   ]
  },
  {
   "cell_type": "code",
   "execution_count": 85,
   "metadata": {},
   "outputs": [
    {
     "name": "stdout",
     "output_type": "stream",
     "text": [
      "Accuracy: 0.8666666666666667\n"
     ]
    }
   ],
   "source": [
    "if __name__ == \"__main__\":\n",
    "    df=pd.read_csv(\"data3.csv\")\n",
    "    X = df.drop('species', axis=1)\n",
    "    y = df['species']\n",
    "    X = X.to_numpy()\n",
    "    y1 = np.where(y == 'Iris-setosa',1,-1)\n",
    "    y2 = np.where(y == 'Iris-versicolor',2 ,-1)\n",
    "    y3 = np.where(y == 'Iris-virginica',3,-1)\n",
    "    y = y.to_numpy()\n",
    "    for i in range(len(y)):\n",
    "        if y1[i] == 1 :\n",
    "            y[i] = 1\n",
    "        elif y2[i] == 2:\n",
    "            y[i] = 2\n",
    "        elif y3[i] == 3:\n",
    "            y[i] = 3\n",
    "    y = y.astype(int)       \n",
    "    X_train, X_test, y_train, y_test = train_test_split(\n",
    "        X, y, test_size=0.2)\n",
    "    clf = RandomForest(n_trees=8, max_depth=10)\n",
    "\n",
    "    clf.fit(X_train, y_train)\n",
    "    y_pred = clf.predict(X_test)\n",
    "    acc = accuracy(y_test, y_pred)\n",
    "\n",
    "    print(\"Accuracy:\", acc)"
   ]
  },
  {
   "cell_type": "code",
   "execution_count": 99,
   "metadata": {},
   "outputs": [
    {
     "name": "stdout",
     "output_type": "stream",
     "text": [
      "Accuracy  for 1 tree is : 0.9 \n",
      "Accuracy  for 2 tree is : 0.9 \n",
      "Accuracy  for 3 tree is : 0.9 \n",
      "Accuracy  for 4 tree is : 0.9333333333333333 \n",
      "Accuracy  for 5 tree is : 0.9333333333333333 \n",
      "Accuracy  for 6 tree is : 0.9333333333333333 \n",
      "Accuracy  for 7 tree is : 0.9 \n",
      "Accuracy  for 8 tree is : 0.9666666666666667 \n",
      "Accuracy  for 9 tree is : 0.9333333333333333 \n",
      "Accuracy  for 10 tree is : 0.9333333333333333 \n",
      "Accuracy  for 11 tree is : 0.9333333333333333 \n"
     ]
    }
   ],
   "source": [
    "if __name__ == \"__main__\":\n",
    "    df=pd.read_csv(\"data3.csv\")\n",
    "    X = df.drop('species', axis=1)\n",
    "    y = df['species']\n",
    "    X = X.to_numpy()\n",
    "    y1 = np.where(y == 'Iris-setosa',1,-1)\n",
    "    y2 = np.where(y == 'Iris-versicolor',2 ,-1)\n",
    "    y3 = np.where(y == 'Iris-virginica',3,-1)\n",
    "    y = y.to_numpy()\n",
    "    for i in range(len(y)):\n",
    "        if y1[i] == 1 :\n",
    "            y[i] = 1\n",
    "        elif y2[i] == 2:\n",
    "            y[i] = 2\n",
    "        elif y3[i] == 3:\n",
    "            y[i] = 3\n",
    "    y = y.astype(int)       \n",
    "    X_train, X_test, y_train, y_test = train_test_split(\n",
    "        X, y, test_size=0.2)\n",
    "    for i in range (11):\n",
    "        clf = RandomForest(n_trees=i+1, max_depth=10)\n",
    "\n",
    "        clf.fit(X_train, y_train)\n",
    "        y_pred = clf.predict(X_test)\n",
    "        acc = accuracy(y_test, y_pred)\n",
    "\n",
    "        print(\"Accuracy  for {} tree is : {} \".format(i+1 , acc) )"
   ]
  },
  {
   "cell_type": "code",
   "execution_count": null,
   "metadata": {},
   "outputs": [],
   "source": []
  },
  {
   "cell_type": "code",
   "execution_count": null,
   "metadata": {},
   "outputs": [],
   "source": []
  }
 ],
 "metadata": {
  "kernelspec": {
   "display_name": "Python 3",
   "language": "python",
   "name": "python3"
  },
  "language_info": {
   "codemirror_mode": {
    "name": "ipython",
    "version": 3
   },
   "file_extension": ".py",
   "mimetype": "text/x-python",
   "name": "python",
   "nbconvert_exporter": "python",
   "pygments_lexer": "ipython3",
   "version": "3.6.10"
  }
 },
 "nbformat": 4,
 "nbformat_minor": 4
}
